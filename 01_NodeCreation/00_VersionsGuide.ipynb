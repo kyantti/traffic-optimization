{
 "cells": [
  {
   "cell_type": "markdown",
   "id": "ee36ca1e",
   "metadata": {},
   "source": [
    "# Nodes-Only Map Versions (Markdown Notebook)\n",
    "\n",
    "> Scope: **nodes only** (cities as points). Segments/edges are handled in a separate function and are **out of scope here**.\n",
    "\n",
    "---\n",
    "\n",
    "## V0 — Uniform Synthetic Nodes\n",
    "\n",
    "**Goal:** Minimal, reproducible node set in a rectangular region.\n",
    "**Inputs:** seed, N, bbox (km), population range.\n",
    "**Method:** Sample positions uniformly inside bbox; populations \\~ Uniform\\[min,max].\n",
    "**Outputs:** `id, x_km, y_km, pop`.\n",
    "**Validation:** N matches; inside bbox; pop in range.\n",
    "\n",
    "---\n",
    "\n",
    "## V1 — City Size Classes\n",
    "\n",
    "**Goal:** Urban hierarchy.\n",
    "**Changes:** Assign `class ∈ {large, medium, small}` with quotas (e.g., 10/30/60%). Distinct lognormal per class.\n",
    "**Validation:** Class counts match; medians ordered `large > medium > small`.\n",
    "\n",
    "### V1.1 — Single-Core Density Field\n",
    "\n",
    "**Goal:** Spatial realism with a capital-like core.\n",
    "**Changes:** Rejection sampling from a 2D Gaussian density. Parameters: `core_location`, `core_sigma_km`, `density_strength`.\n",
    "**Outputs:** (optional) `core_dist_km`.\n",
    "**Validation:** Mean distance to core below uniform baseline.\n",
    "\n",
    "---\n",
    "\n",
    "## V2 — Multi-Core & Corridors\n",
    "\n",
    "**Goal:** Multiple metros and directional corridors (still nodes-only).\n",
    "**Changes:** Mixture of K Gaussians; optional elongated kernels for corridors.\n",
    "**Outputs:** `core_id`.\n",
    "**Validation:** Cluster sizes near targets; inter-core gaps > intra-core.\n",
    "\n",
    "---\n"
   ]
  }
 ],
 "metadata": {
  "language_info": {
   "name": "python"
  }
 },
 "nbformat": 4,
 "nbformat_minor": 5
}
