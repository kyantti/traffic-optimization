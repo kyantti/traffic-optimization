{
 "cells": [
  {
   "cell_type": "markdown",
   "id": "ee36ca1e",
   "metadata": {},
   "source": [
    "# Edges-Only Map Versions (Markdown Notebook)\n",
    "\n",
    "> Scope: **edges only** (city-to-city segments). Requires an existing `nodes.csv`. Solutions are saved under `<dataset>/solutions/<solution_name>/` and creation is **batch-aware** (skip if already exists).\n",
    "\n",
    "---\n",
    "\n",
    "## V0 — Random Spanning Tree\n",
    "\n",
    "**Goal:** Minimal connected baseline with randomized topology.\n",
    "**Inputs:** `nodes.csv` (`id, x_km, y_km[, pop]`), seed.\n",
    "**Method:** Randomized Kruskal over complete graph ⇒ spanning tree (**N−1** edges). Edge cost = Euclidean distance (km). Batch-aware: skip if solution folder already present.\n",
    "**Outputs:** `edges.csv` (`u, v, length_km`), `adjacency.csv` (NxN 0/1), `cost.csv` (NxN km; `0` diag; `inf` no edge), `segments_preview.png`, `solution_meta.json`.\n",
    "**Validation:** Graph connected; exactly **N−1** edges; matrices symmetric; costs ≥ 0; totals recorded in metadata.\n",
    "\n",
    "---\n",
    "\n",
    "## V1 — Greedy MST (Prim)\n",
    "\n",
    "**Goal:** Connected network with **minimal total length** (baseline).\n",
    "**Changes/Method:** Prim’s algorithm to build an MST (**N−1** edges) using Euclidean distances as costs. Deterministic given coordinates (seed kept for metadata). Batch-aware skip if solution exists.\n",
    "**Outputs:** `edges.csv` (`u, v, length_km`), `adjacency.csv` (NxN 0/1), `cost.csv` (NxN km; `0` diag; `inf` no edge), `segments_preview.png`, `solution_meta.json`.\n",
    "**Validation:** Graph connected; exactly **N−1** edges; total length consistent with MST (≤ random baseline), matrices well-formed.\n"
   ]
  }
 ],
 "metadata": {
  "language_info": {
   "name": "python"
  }
 },
 "nbformat": 4,
 "nbformat_minor": 5
}
